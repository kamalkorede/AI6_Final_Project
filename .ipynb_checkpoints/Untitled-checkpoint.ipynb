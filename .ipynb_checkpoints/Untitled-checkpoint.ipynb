{
 "cells": [
  {
   "cell_type": "markdown",
   "metadata": {},
   "source": [
    "# CUSTOMER SEGMENTATION PROJECT\n",
    "\n",
    "Mr Ken owns a supermarket mall and through membership cards , he has some basic data about his\n",
    "customers like Customer ID, age, gender, annual income and spending score.\n",
    "Spending Score is something he assigns to the customer based on defined parameters like customer\n",
    "behavior and purchasing data.\n",
    "Mr Ken wants to understand the customers who can easily converge [Target Customers] so that the\n",
    "sense can be given to the marketing team and plan the strategy accordingly. He has reached out to\n",
    "your team for help.\n",
    "After successful completion of the project, you are expected to prepare a report detailing your data\n",
    "analysis and information of algorithms used to develop models for segmentation."
   ]
  },
  {
   "cell_type": "code",
   "execution_count": 1,
   "metadata": {},
   "outputs": [],
   "source": [
    "#Import necessary libraries\n",
    "%matplotlib inline\n",
    "import numpy as np\n",
    "import pandas as pd\n",
    "import matplotlib.pyplot as plt"
   ]
  }
 ],
 "metadata": {
  "kernelspec": {
   "display_name": "Python 3",
   "language": "python",
   "name": "python3"
  },
  "language_info": {
   "codemirror_mode": {
    "name": "ipython",
    "version": 3
   },
   "file_extension": ".py",
   "mimetype": "text/x-python",
   "name": "python",
   "nbconvert_exporter": "python",
   "pygments_lexer": "ipython3",
   "version": "3.7.6"
  }
 },
 "nbformat": 4,
 "nbformat_minor": 4
}
